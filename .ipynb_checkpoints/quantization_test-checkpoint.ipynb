{
 "cells": [
  {
   "cell_type": "code",
   "execution_count": null,
   "id": "6e6b00f1",
   "metadata": {},
   "outputs": [],
   "source": [
    "from transformers import AutoModelForCausalLM, AutoTokenizer, pipeline\n",
    "import torch\n",
    "from transformers import BitsAndBytesConfig\n",
    "from torch import bfloat16\n",
    "\n",
    "def load_model(model_id, bit_count=32):\n",
    "    device = torch.device(\"cuda\" if torch.cuda.is_available() else \"cpu\")\n",
    "    \n",
    "    if bit_count == 32:\n",
    "        model = AutoModelForCausalLM.from_pretrained(model_id, device_map='auto')\n",
    "    elif bit_count == 8:\n",
    "        model = AutoModelForCausalLM.from_pretrained(model_id, device_map='auto', load_in_8bit=quantized)\n",
    "    elif bit_count == 4:\n",
    "        bnb_config = BitsAndBytesConfig(\n",
    "            load_in_4bit=True, #4-bit quantization\n",
    "            bnb_4bit_quant_type='nf4', #Normalized float 4\n",
    "            bnb_4bit_use_double_quant=True, #Second quantization after the first\n",
    "            bnb_4bit_compute_dtype=bfloat16 #Computation type\n",
    "        )\n",
    "        model = AutoModelForCausalLM.from_pretrained(\n",
    "            model_id,\n",
    "            quantization_config=bnb_config,\n",
    "            device_map='auto'\n",
    "        )\n",
    "        \n",
    "        print(f\"Model Size: {model.get_memory_footprint():,} bytes\")\n",
    "        tokenizer = AutoTokenizer.from_pretrained(model_id)\n",
    "        \n",
    "        if tokenizer.pad_token is None:\n",
    "            tokenizer.pad_token = tokenizer.eos_token\n",
    "            \n",
    "        pipe = pipeline(model=model, tokenizer=tokenizer, task='text-generation')  \n",
    "        \n",
    "        return pipe, model, device"
   ]
  },
  {
   "cell_type": "code",
   "execution_count": null,
   "id": "6c7c0ebe",
   "metadata": {},
   "outputs": [],
   "source": [
    "bit_count = 4\n",
    "model_id = \"mistralai/Mistral-7B-v0.1\"\n",
    "\n",
    "pipe, model, device = load_model(model_id)\n"
   ]
  },
  {
   "cell_type": "code",
   "execution_count": null,
   "id": "66211df5",
   "metadata": {},
   "outputs": [],
   "source": []
  }
 ],
 "metadata": {
  "kernelspec": {
   "display_name": "Python 3 (ipykernel)",
   "language": "python",
   "name": "python3"
  },
  "language_info": {
   "codemirror_mode": {
    "name": "ipython",
    "version": 3
   },
   "file_extension": ".py",
   "mimetype": "text/x-python",
   "name": "python",
   "nbconvert_exporter": "python",
   "pygments_lexer": "ipython3",
   "version": "3.11.4"
  }
 },
 "nbformat": 4,
 "nbformat_minor": 5
}
