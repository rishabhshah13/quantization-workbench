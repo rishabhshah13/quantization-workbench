{
 "cells": [
  {
   "cell_type": "code",
   "execution_count": null,
   "id": "f199cdde",
   "metadata": {},
   "outputs": [],
   "source": [
    "from transformers import AutoModelForCausalLM, AutoTokenizer\n",
    "import torch\n",
    "torch.manual_seed(0)\n",
    "\n",
    "# device = torch.device(\"cuda\" if torch.cuda.is_available() else \"cpu\")\n",
    "device = 'cpu'\n",
    "print(\"Device is\", device)\n",
    "\n",
    "# Loading model\n",
    "model_id = \"mistralai/Mistral-7B-Instruct-v0.2\"\n",
    "tokenizer = AutoTokenizer.from_pretrained(model_id)\n",
    "# model = AutoModelForCausalLM.from_pretrained(model_id).to(device)"
   ]
  },
  {
   "cell_type": "code",
   "execution_count": null,
   "id": "2f157240",
   "metadata": {},
   "outputs": [],
   "source": [
    "torch.backends.mps.is_available()"
   ]
  },
  {
   "cell_type": "code",
   "execution_count": null,
   "id": "f755a61e",
   "metadata": {},
   "outputs": [],
   "source": [
    "torch.cuda.is_available()"
   ]
  },
  {
   "cell_type": "code",
   "execution_count": null,
   "id": "44769a0e",
   "metadata": {},
   "outputs": [],
   "source": [
    "print(f\"Model size: {model.get_memory_footprint()/ (1023**3):,} GB\")"
   ]
  },
  {
   "cell_type": "code",
   "execution_count": null,
   "id": "c6009da6",
   "metadata": {},
   "outputs": [],
   "source": [
    "model_int8 = AutoModelForCausalLM.from_pretrained(model_id, device_map='auto', load_in_8bit=True,load_in_8bit_fp32_cpu_offload=True)\n",
    "print(f\"Model size: {model_int8.get_memory_footprint():,} bytes\")"
   ]
  },
  {
   "cell_type": "code",
   "execution_count": null,
   "id": "0e0dfaef",
   "metadata": {},
   "outputs": [],
   "source": [
    "\n",
    "def text_inference(model_list, text):\n",
    "    results = []\n",
    "    for model in model_list:\n",
    "        inference_engine = ModelInference(model, device='gpu')  # Assuming default to GPU\n",
    "        result = inference_engine.inference(text)\n",
    "        results.append(result)\n",
    "    return results"
   ]
  },
  {
   "cell_type": "code",
   "execution_count": null,
   "id": "93096f3f",
   "metadata": {},
   "outputs": [],
   "source": [
    "from transformers import AutoModelForCausalLM, AutoTokenizer, BitsAndBytesConfig\n",
    "import torch\n",
    "import os\n",
    "from huggingface_hub import login\n",
    "\n",
    "model_id = \"TheBloke/zephyr-7B-alpha-AWQ\"\n",
    "\n",
    "model = AutoModelForCausalLM.from_pretrained(model_id, torch_dtype=torch.float32,device_map='auto')\n",
    "\n",
    "tokenizer = AutoTokenizer.from_pretrained(model_id)\n",
    "if tokenizer.pad_token is None:\n",
    "        tokenizer.pad_token = tokenizer.eos_token\n",
    "\n",
    "\n",
    "messages = [\n",
    "    {\"role\": \"user\", \"content\": \"heyyyy\"}\n",
    "]\n",
    "encoded_string = tokenizer.apply_chat_template(messages, return_tensors=\"pt\")\n",
    "\n",
    "model_inputs = encoded_string.to(model.device)\n",
    "\n",
    "generated_ids = model.generate(model_inputs, pad_token_id=tokenizer.pad_token_id, max_new_tokens = 1000, do_sample=True)\n",
    "decoded = tokenizer.batch_decode(generated_ids)\n",
    "print(\"Model: \", decoded[0])    "
   ]
  },
  {
   "cell_type": "code",
   "execution_count": null,
   "id": "a01603e0",
   "metadata": {},
   "outputs": [],
   "source": [
    "from awq import AutoAWQForCausalLM\n",
    "from transformers import AutoTokenizer\n",
    "\n",
    "model_name_or_path = \"TheBloke/Llama-2-7b-Chat-AWQ\"\n",
    "\n",
    "# Load model\n",
    "model = AutoAWQForCausalLM.from_quantized(model_name_or_path, fuse_layers=True,\n",
    "                                          trust_remote_code=False, safetensors=True)\n",
    "tokenizer = AutoTokenizer.from_pretrained(model_name_or_path, trust_remote_code=False)\n",
    "\n",
    "prompt = \"Tell me about AI\"\n",
    "prompt_template=f'''[INST] <<SYS>>\n",
    "You are a helpful, respectful and honest assistant. Always answer as helpfully as possible, while being safe.  Your answers should not include any harmful, unethical, racist, sexist, toxic, dangerous, or illegal content. Please ensure that your responses are socially unbiased and positive in nature. If a question does not make any sense, or is not factually coherent, explain why instead of answering something not correct. If you don't know the answer to a question, please don't share false information.\n",
    "<</SYS>>\n",
    "{prompt}[/INST]\n",
    "\n",
    "'''\n",
    "\n",
    "print(\"\\n\\n*** Generate:\")\n",
    "\n",
    "tokens = tokenizer(\n",
    "    prompt_template,\n",
    "    return_tensors='pt'\n",
    ").input_ids.cuda()\n",
    "\n",
    "# Generate output\n",
    "generation_output = model.generate(\n",
    "    tokens,\n",
    "    do_sample=True,\n",
    "    temperature=0.7,\n",
    "    top_p=0.95,\n",
    "    top_k=40,\n",
    "    max_new_tokens=512\n",
    ")\n",
    "\n",
    "print(\"Output: \", tokenizer.decode(generation_output[0]))\n"
   ]
  },
  {
   "cell_type": "code",
   "execution_count": null,
   "id": "56f3996b",
   "metadata": {},
   "outputs": [],
   "source": []
  },
  {
   "cell_type": "code",
   "execution_count": null,
   "id": "abed7368",
   "metadata": {},
   "outputs": [],
   "source": [
    "from awq import AutoAWQForCausalLM\n",
    "model_id = \"TheBloke/Llama-2-7B-Chat-AWQ\"\n",
    "# model = AutoModelForCausalLM.from_pretrained(model_id, torch_dtype=torch.float32,device_map='auto')\n",
    "model = AutoAWQForCausalLM.from_quantized(model_id, fuse_layers=True,\n",
    "                                    trust_remote_code=False, safetensors=True)\n",
    "\n",
    "# model = AutoModelForCausalLM.from_pretrained(\"TheBloke/zephyr-7B-alpha-AWQ\", attn_implementation=\"flash_attention_2\", device_map='auto')\n",
    "# print(f\"Model Size: {model.get_memory_footprint() / (1024**3):,} GB\")"
   ]
  },
  {
   "cell_type": "code",
   "execution_count": null,
   "id": "184117b9",
   "metadata": {},
   "outputs": [],
   "source": []
  },
  {
   "cell_type": "code",
   "execution_count": null,
   "id": "1f824b94",
   "metadata": {},
   "outputs": [],
   "source": [
    "from awq import AutoAWQForCausalLM\n",
    "model_id = \"TheBloke/Llama-2-7B-Chat-AWQ\"\n",
    "# model = AutoModelForCausalLM.from_pretrained(model_id, torch_dtype=torch.float32,device_map='auto')\n",
    "model = AutoAWQForCausalLM.from_quantized(model_id, fuse_layers=True,\n",
    "                                    trust_remote_code=False, safetensors=True)\n",
    "\n",
    "# model = AutoModelForCausalLM.from_pretrained(\"TheBloke/zephyr-7B-alpha-AWQ\", attn_implementation=\"flash_attention_2\", device_map='auto')\n",
    "# print(f\"Model Size: {model.get_memory_footprint() / (1024**3):,} GB\")"
   ]
  },
  {
   "cell_type": "code",
   "execution_count": null,
   "id": "42825d51",
   "metadata": {},
   "outputs": [],
   "source": [
    "\n",
    "from transformers import AutoModelForCausalLM, AutoTokenizer, BitsAndBytesConfig\n",
    "import torch\n",
    "import os\n",
    "from huggingface_hub import login\n",
    "\n",
    "\n",
    "while True:\n",
    "\n",
    "    tokenizer = AutoTokenizer.from_pretrained(model_id)\n",
    "    if tokenizer.pad_token is None:\n",
    "            tokenizer.pad_token = tokenizer.eos_token\n",
    "\n",
    "    # User input\n",
    "    user_input = input(\"You: \")\n",
    "    if not user_input.strip():\n",
    "        print(\"Exiting...\")\n",
    "        break\n",
    "\n",
    "    messages = [\n",
    "        {\"role\": \"user\", \"content\": user_input}\n",
    "    ]\n",
    "    encoded_string = tokenizer.apply_chat_template(messages, return_tensors=\"pt\")\n",
    "\n",
    "    model_inputs = encoded_string.to('cuda')\n",
    "    \n",
    "    generated_ids = model.generate(model_inputs, pad_token_id=tokenizer.pad_token_id, max_new_tokens = 1000, do_sample=True)\n",
    "    decoded = tokenizer.batch_decode(generated_ids)\n",
    "    print(\"Model: \", decoded[0]) "
   ]
  },
  {
   "cell_type": "code",
   "execution_count": null,
   "id": "311656eb",
   "metadata": {},
   "outputs": [],
   "source": []
  },
  {
   "cell_type": "code",
   "execution_count": null,
   "id": "be433bf7",
   "metadata": {},
   "outputs": [],
   "source": []
  },
  {
   "cell_type": "code",
   "execution_count": null,
   "id": "afa3b35e",
   "metadata": {},
   "outputs": [],
   "source": [
    "# from transformers import AutoModelForCausalLM, AutoTokenizer, pipeline\n",
    "\n",
    "# model_name_or_path = \"TheBloke/Llama-2-7b-Chat-GPTQ\"\n",
    "# # To use a different branch, change revision\n",
    "# # For example: revision=\"gptq-4bit-64g-actorder_True\"\n",
    "# model = AutoModelForCausalLM.from_pretrained(model_name_or_path,\n",
    "#                                              device_map=\"auto\",\n",
    "#                                              trust_remote_code=False,\n",
    "#                                              revision=\"main\")\n",
    "\n",
    "# tokenizer = AutoTokenizer.from_pretrained(model_name_or_path, use_fast=True)\n",
    "\n",
    "# prompt = \"Tell me about AI\"\n",
    "# prompt_template=f'''[INST] <<SYS>>\n",
    "# You are a helpful, respectful and honest assistant. Always answer as helpfully as possible, while being safe.  Your answers should not include any harmful, unethical, racist, sexist, toxic, dangerous, or illegal content. Please ensure that your responses are socially unbiased and positive in nature. If a question does not make any sense, or is not factually coherent, explain why instead of answering something not correct. If you don't know the answer to a question, please don't share false information.\n",
    "# <</SYS>>\n",
    "# {prompt}[/INST]\n",
    "\n",
    "# '''\n",
    "\n",
    "# print(\"\\n\\n*** Generate:\")\n",
    "\n",
    "# input_ids = tokenizer(prompt_template, return_tensors='pt').input_ids.cuda()\n",
    "# output = model.generate(inputs=input_ids, temperature=0.7, do_sample=True, top_p=0.95, top_k=40, max_new_tokens=512)\n",
    "# print(tokenizer.decode(output[0]))\n",
    "\n",
    "# # Inference can also be done using transformers' pipeline\n",
    "\n",
    "# print(\"*** Pipeline:\")\n",
    "# pipe = pipeline(\n",
    "#     \"text-generation\",\n",
    "#     model=model,\n",
    "#     tokenizer=tokenizer,\n",
    "#     max_new_tokens=512,\n",
    "#     do_sample=True,\n",
    "#     temperature=0.7,\n",
    "#     top_p=0.95,\n",
    "#     top_k=40,\n",
    "#     repetition_penalty=1.1\n",
    "# )\n",
    "\n",
    "# print(pipe(prompt_template)[0]['generated_text'])\n"
   ]
  },
  {
   "cell_type": "code",
   "execution_count": null,
   "id": "cee6ceda",
   "metadata": {},
   "outputs": [],
   "source": [
    "text = \"\"\" [INST] asdas [/INST]  [INST] asdas [/INST] It seems like you have typed an irrelevant word \"asdas\" in your message. Could you please provide more context or clarify your question so I can assist you better?</s></s> [INST] Hahaah [/INST] I apologize if my previous response was unhelpful. I\\'m here to help answer questions to the best of my ability. If you have a question related to programming, technology, mathematics, or any other field, please feel free to ask and I will do my best to provide an accurate and helpful response.\\n\\nRegarding the text \"asdas\" you have typed, it appears to be meaningless. If you meant something else, could you please clarify?\\n\\nBest regards,\\nAI Assistant.</s>\"\"\""
   ]
  },
  {
   "cell_type": "code",
   "execution_count": null,
   "id": "e500ee9c",
   "metadata": {},
   "outputs": [],
   "source": [
    "output = ('<s> [INST] asdas [/INST]<s>  [INST] asdas [/INST] It seems like you have typed an irrelevant word \"asdas\" in your message. Could you please provide more context or clarify your question so I can assist you better?</s></s> [INST] Hahaah [/INST]<s>  [INST] asdas [/INST]<s>   [INST] asdas [/INST] It seems like you have typed an irrelevant word \"asdas\" in your message. Could you please provide more context or clarify your question so I can assist you better?</s></s>  [INST] Hahaah [/INST] I apologize if my previous response was unhelpful. I\\'m here to help answer questions to the best of my ability. If you have a question related to programming, technology, mathematics, or any other field, please feel free to ask and I will do my best to provide an accurate and helpful response.\\n\\nRegarding the text \"asdas\" you have typed, it appears to be meaningless. If you meant something else, could you please clarify?\\n\\nBest regards,\\nAI Assistant.</s></s> [INST] asxnisdcnwi [/INST] It seems like you have typed an unintelligible phrase \"asxnisdcnwi\". Could you please provide more context or clarify your question so I can assist you better? If you meant to ask a specific question related to programming, technology, mathematics, or any other field, feel free to ask.\\n\\nBest regards,\\nAI Assistant.</s>', None, None, None)\n",
    "transformedutput = []"
   ]
  },
  {
   "cell_type": "code",
   "execution_count": null,
   "id": "69cfeb9b",
   "metadata": {},
   "outputs": [],
   "source": [
    "for chatbot_output in output[:]:\n",
    "    new_output = ''\n",
    "    counter = 0\n",
    "\n",
    "    if chatbot_output == None:\n",
    "        transformedutput.append(chatbot_output)\n",
    "        continue\n",
    "        \n",
    "    for prompt in chatbot_output.split('[INST]'):\n",
    "        for prompt_output in prompt.split('[/INST]'):\n",
    "            if counter == 0:\n",
    "                new_output +=  'ASSISTANT' + prompt_output + '\\n\\n'\n",
    "                counter = 1\n",
    "            else:\n",
    "                new_output += 'USER' + prompt_output + '\\n'\n",
    "                counter = 0\n",
    "\n",
    "    transformedutput.append(new_output)\n",
    "\n",
    "transformedutput = tuple(transformedutput)"
   ]
  },
  {
   "cell_type": "code",
   "execution_count": null,
   "id": "95af2a96",
   "metadata": {},
   "outputs": [],
   "source": [
    "tuple(transformedutput)"
   ]
  },
  {
   "cell_type": "code",
   "execution_count": null,
   "id": "2784c1e9",
   "metadata": {},
   "outputs": [],
   "source": [
    "print(output)"
   ]
  },
  {
   "cell_type": "code",
   "execution_count": null,
   "id": "3fafe9c0",
   "metadata": {},
   "outputs": [],
   "source": [
    "list('<s> [INST] asdas [/INST]<s>  [INST] asdas [/INST] It seems like you have typed an irrelevant word \"asdas\" in your message. Could you please provide more context or clarify your question so I can assist you better?</s></s> [INST] Hahaah [/INST]<s>  [INST] asdas [/INST]<s>   [INST] asdas [/INST] It seems like you have typed an irrelevant word \"asdas\" in your message. Could you please provide more context or clarify your question so I can assist you better?</s></s>  [INST] Hahaah [/INST] I apologize if my previous response was unhelpful. I\\'m here to help answer questions to the best of my ability. If you have a question related to programming, technology, mathematics, or any other field, please feel free to ask and I will do my best to provide an accurate and helpful response.\\n\\nRegarding the text \"asdas\" you have typed, it appears to be meaningless. If you meant something else, could you please clarify?\\n\\nBest regards,\\nAI Assistant.</s></s> [INST] asxnisdcnwi [/INST] It seems like you have typed an unintelligible phrase \"asxnisdcnwi\". Could you please provide more context or clarify your question so I can assist you better? If you meant to ask a specific question related to programming, technology, mathematics, or any other field, feel free to ask.\\n\\nBest regards,\\nAI Assistant.</s>', None, None, None)\n"
   ]
  },
  {
   "cell_type": "code",
   "execution_count": null,
   "id": "c3ed0c6d",
   "metadata": {},
   "outputs": [],
   "source": []
  }
 ],
 "metadata": {
  "kernelspec": {
   "display_name": "Python 3 (ipykernel)",
   "language": "python",
   "name": "python3"
  },
  "language_info": {
   "codemirror_mode": {
    "name": "ipython",
    "version": 3
   },
   "file_extension": ".py",
   "mimetype": "text/x-python",
   "name": "python",
   "nbconvert_exporter": "python",
   "pygments_lexer": "ipython3",
   "version": "3.9.19"
  }
 },
 "nbformat": 4,
 "nbformat_minor": 5
}
